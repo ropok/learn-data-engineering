{
 "cells": [
  {
   "cell_type": "code",
   "execution_count": 35,
   "metadata": {},
   "outputs": [
    {
     "data": {
      "text/html": [
       "<div>\n",
       "<style scoped>\n",
       "    .dataframe tbody tr th:only-of-type {\n",
       "        vertical-align: middle;\n",
       "    }\n",
       "\n",
       "    .dataframe tbody tr th {\n",
       "        vertical-align: top;\n",
       "    }\n",
       "\n",
       "    .dataframe thead th {\n",
       "        text-align: right;\n",
       "    }\n",
       "</style>\n",
       "<table border=\"1\" class=\"dataframe\">\n",
       "  <thead>\n",
       "    <tr style=\"text-align: right;\">\n",
       "      <th></th>\n",
       "      <th>event_time</th>\n",
       "      <th>event_name</th>\n",
       "      <th>interface_type</th>\n",
       "      <th>app_version</th>\n",
       "      <th>visitor_id</th>\n",
       "      <th>session_id</th>\n",
       "    </tr>\n",
       "  </thead>\n",
       "  <tbody>\n",
       "    <tr>\n",
       "      <th>129229</th>\n",
       "      <td>2019-03-10 23:58:23</td>\n",
       "      <td>search</td>\n",
       "      <td>Ios</td>\n",
       "      <td>2.8.0</td>\n",
       "      <td>19BFB6A168824598B0B09B8812CAEE52</td>\n",
       "      <td>19BFB6A168824598B0B09B8812CAEE52.20190310235501</td>\n",
       "    </tr>\n",
       "    <tr>\n",
       "      <th>129230</th>\n",
       "      <td>2019-03-10 23:58:34</td>\n",
       "      <td>visit</td>\n",
       "      <td>Android</td>\n",
       "      <td>2.8.0</td>\n",
       "      <td>8e9cc85d856c71ed23fe336728460d59</td>\n",
       "      <td>8e9cc85d856c71ed23fe336728460d59.20190310235707</td>\n",
       "    </tr>\n",
       "    <tr>\n",
       "      <th>129231</th>\n",
       "      <td>2019-03-10 23:58:40</td>\n",
       "      <td>view_product</td>\n",
       "      <td>Ios</td>\n",
       "      <td>2.8.0</td>\n",
       "      <td>19BFB6A168824598B0B09B8812CAEE52</td>\n",
       "      <td>19BFB6A168824598B0B09B8812CAEE52.20190310235501</td>\n",
       "    </tr>\n",
       "    <tr>\n",
       "      <th>129232</th>\n",
       "      <td>2019-03-10 23:58:45</td>\n",
       "      <td>search</td>\n",
       "      <td>Ios</td>\n",
       "      <td>2.8.0</td>\n",
       "      <td>19BFB6A168824598B0B09B8812CAEE52</td>\n",
       "      <td>19BFB6A168824598B0B09B8812CAEE52.20190310235501</td>\n",
       "    </tr>\n",
       "    <tr>\n",
       "      <th>129233</th>\n",
       "      <td>2019-03-10 23:58:59</td>\n",
       "      <td>visit</td>\n",
       "      <td>Ios</td>\n",
       "      <td>2.8.0</td>\n",
       "      <td>19BFB6A168824598B0B09B8812CAEE52</td>\n",
       "      <td>19BFB6A168824598B0B09B8812CAEE52.20190310235501</td>\n",
       "    </tr>\n",
       "  </tbody>\n",
       "</table>\n",
       "</div>"
      ],
      "text/plain": [
       "                 event_time    event_name interface_type app_version  \\\n",
       "129229  2019-03-10 23:58:23        search            Ios       2.8.0   \n",
       "129230  2019-03-10 23:58:34         visit        Android       2.8.0   \n",
       "129231  2019-03-10 23:58:40  view_product            Ios       2.8.0   \n",
       "129232  2019-03-10 23:58:45        search            Ios       2.8.0   \n",
       "129233  2019-03-10 23:58:59         visit            Ios       2.8.0   \n",
       "\n",
       "                              visitor_id  \\\n",
       "129229  19BFB6A168824598B0B09B8812CAEE52   \n",
       "129230  8e9cc85d856c71ed23fe336728460d59   \n",
       "129231  19BFB6A168824598B0B09B8812CAEE52   \n",
       "129232  19BFB6A168824598B0B09B8812CAEE52   \n",
       "129233  19BFB6A168824598B0B09B8812CAEE52   \n",
       "\n",
       "                                             session_id  \n",
       "129229  19BFB6A168824598B0B09B8812CAEE52.20190310235501  \n",
       "129230  8e9cc85d856c71ed23fe336728460d59.20190310235707  \n",
       "129231  19BFB6A168824598B0B09B8812CAEE52.20190310235501  \n",
       "129232  19BFB6A168824598B0B09B8812CAEE52.20190310235501  \n",
       "129233  19BFB6A168824598B0B09B8812CAEE52.20190310235501  "
      ]
     },
     "execution_count": 35,
     "metadata": {},
     "output_type": "execute_result"
    }
   ],
   "source": [
    "import pandas as pd\n",
    "\n",
    "data = pd.read_csv('Pegipegi Case Study - Data Engineer Technical Test (Data Source).csv')\n",
    "data.tail()"
   ]
  },
  {
   "cell_type": "code",
   "execution_count": 48,
   "metadata": {},
   "outputs": [],
   "source": [
    "data.columns # print column\n",
    "# even_date\n",
    "event_date = [date.split(\" \")[0] for date in data['event_time']]\n",
    "interface_type = [interface.upper() for interface in data['interface_type']]\n",
    "app_version = [app for app in data['app_version']]\n",
    "event_name = [event for event in data['event_name']]"
   ]
  },
  {
   "cell_type": "code",
   "execution_count": 49,
   "metadata": {},
   "outputs": [],
   "source": [
    "event_date_sort = sorted(set(event_date))\n",
    "interface_type_sort = sorted(set(interface_type))\n",
    "app_version_sort = sorted(set(app_version))\n",
    "event_name_sort = sorted(set(event_name))\n",
    "#changeorder\n",
    "event_name_sort = ['Visit', 'Search', 'ViewProduct', 'AddToCart', 'Checkout', 'SelectPayment', 'CreateBooking',\n",
    "             'visit', 'search', 'view_product', 'add_to_cart', 'checkout', 'select_payment', 'create_booking']"
   ]
  },
  {
   "cell_type": "code",
   "execution_count": 38,
   "metadata": {},
   "outputs": [
    {
     "data": {
      "text/plain": [
       "['Visit',\n",
       " 'Search',\n",
       " 'ViewProduct',\n",
       " 'AddToCart',\n",
       " 'Checkout',\n",
       " 'SelectPayment',\n",
       " 'CreateBooking',\n",
       " 'visit',\n",
       " 'search',\n",
       " 'view_product',\n",
       " 'add_to_cart',\n",
       " 'checkout',\n",
       " 'select_payment',\n",
       " 'create_booking']"
      ]
     },
     "execution_count": 38,
     "metadata": {},
     "output_type": "execute_result"
    }
   ],
   "source": [
    "event_name"
   ]
  },
  {
   "cell_type": "code",
   "execution_count": null,
   "metadata": {},
   "outputs": [
    {
     "name": "stdout",
     "output_type": "stream",
     "text": [
      "event_date, interface_type, app_version, num_visit, num_search, num_product_viewed, num_add_to_cart, num_checkout, num_payment_selected, num_booking_created, num_session_visit, num_session_search, num_session_product_viewed, num_session_add_to_cart, num_session_checkout, num_session_payment_selected, num_session_booking_created\n"
     ]
    }
   ],
   "source": [
    "print(\"event_date, interface_type, app_version, num_visit, num_search, num_product_viewed, num_add_to_cart, num_checkout, num_payment_selected, num_booking_created, num_session_visit, num_session_search, num_session_product_viewed, num_session_add_to_cart, num_session_checkout, num_session_payment_selected, num_session_booking_created\")\n",
    "event_count = []\n",
    "event_count_text = \"\"\n",
    "for date in event_date_sort:\n",
    "    for interface in interface_type_sort:\n",
    "        for version in app_version_sort:\n",
    "            events = [rec for index, rec in enumerate(data['event_name'])\n",
    "          if date in event_date[index]\n",
    "          and interface in interface_type[index]\n",
    "          and version in app_version[index]]\n",
    "            for index, event in enumerate(event_name_sort):\n",
    "#                 event_count.append(events.count(event))\n",
    "                event_count_text = event_count_text + \",\" + str(events.count(event))\n",
    "            print(\"{},{},{},{}\").format(date, interface, version, event_count_text)"
   ]
  },
  {
   "cell_type": "code",
   "execution_count": 47,
   "metadata": {},
   "outputs": [
    {
     "name": "stdout",
     "output_type": "stream",
     "text": [
      "2508\n"
     ]
    }
   ],
   "source": [
    "from collections import Counter\n",
    "# events = [rec for rec in data['event_name'] if '2019-02-25' in data['event_time'] and 'Android' in data['interface_type'] and '2.7.1' in data['app_version']]\n",
    "events = [rec for index, rec in enumerate(data['event_name'])\n",
    "          if '2019-02-25' in event_date[index]\n",
    "          and 'ANDROID' in interface_type[index]\n",
    "          and '2.7.1' in app_version[index]]\n",
    "result = events.count('search')\n",
    "print(result)"
   ]
  },
  {
   "cell_type": "code",
   "execution_count": null,
   "metadata": {},
   "outputs": [],
   "source": []
  }
 ],
 "metadata": {
  "kernelspec": {
   "display_name": "Python 3",
   "language": "python",
   "name": "python3"
  },
  "language_info": {
   "codemirror_mode": {
    "name": "ipython",
    "version": 3
   },
   "file_extension": ".py",
   "mimetype": "text/x-python",
   "name": "python",
   "nbconvert_exporter": "python",
   "pygments_lexer": "ipython3",
   "version": "3.8.3"
  }
 },
 "nbformat": 4,
 "nbformat_minor": 4
}
